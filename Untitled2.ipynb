{
 "cells": [
  {
   "cell_type": "code",
   "execution_count": null,
   "metadata": {},
   "outputs": [],
   "source": [
    "# Przetestujmy prostą sieć konwolucyjna\n",
    "X_tr_s_reshape = X_tr_s.reshape(-1, 32, 32, 3) \n",
    "X_te_s_reshape = X_te_s.reshape(-1, 32, 32, 3) \n",
    "\n",
    "# model = Sequential()\n",
    "\n",
    "# model.add(Conv2D(32, (3, 3), activation='relu', padding='same', input_shape=(3L, 32L, 32L)))\n",
    "# # model.add(MaxPooling2D((2, 2), padding='same'))\n",
    "# # model.add(Conv2D(8, (3, 3), activation='relu', padding='same'))\n",
    "# # model.add(MaxPooling2D((2, 2), padding='same'))\n",
    "# # model.add(Conv2D(8, (3, 3), activation='relu', padding='same'))\n",
    "# # model.add(MaxPooling2D((2, 2), padding='same'))\n",
    "# # model.add(Dropout(0.5))\n",
    "# # model.add(Dense(250, activation='relu'))\n",
    "# model.add(Dense(10, activation='sigmoid', input_shape=(3*32*32, )))\n",
    "# model.add(Activation('sigmoid'))\n",
    "\n",
    "\n",
    "batch = 1000\n",
    "\n",
    "model = Sequential()\n",
    "model.add(Dense(hidden_size, input_shape=(3L, 32L, 32L)))\n",
    "model.add(Activation(activation_first))\n",
    "model.add(Dense(classes_number, input_shape=(hidden_size, )))\n",
    "model.add(Activation(activation_second))\n",
    "\n",
    "model.compile(optimizer=SGD(lr=lr), loss='categorical_crossentropy', metrics=['accuracy'])\n"
   ]
  },
  {
   "cell_type": "code",
   "execution_count": null,
   "metadata": {
    "collapsed": true
   },
   "outputs": [],
   "source": [
    "print X_tr_s_reshape.shape, y_tr_s.shape\n",
    "print X_te_s_reshape.shape, y_te_s.shape"
   ]
  },
  {
   "cell_type": "code",
   "execution_count": null,
   "metadata": {
    "collapsed": true
   },
   "outputs": [],
   "source": [
    "# model.compile(optimizer='adadelta', loss='sparse_categorical_crossentropy')\n",
    "# model.fit(X_tr_s, y_tr_s, epochs=150,\n",
    "#            batch_size=100,\n",
    "#            shuffle=True,\n",
    "#            validation_data=(X_te_s, y_te_s))\n",
    "\n",
    "model.fit(X_tr_s_reshape, y_tr_s, epochs=50, batch_size=batch, verbose=0)\n",
    "\n",
    "y_pred = model.predict(X_te_s, batch_size=batch)"
   ]
  }
 ],
 "metadata": {
  "kernelspec": {
   "display_name": "Python 2",
   "language": "python",
   "name": "python2"
  },
  "language_info": {
   "codemirror_mode": {
    "name": "ipython",
    "version": 2
   },
   "file_extension": ".py",
   "mimetype": "text/x-python",
   "name": "python",
   "nbconvert_exporter": "python",
   "pygments_lexer": "ipython2",
   "version": "2.7.13"
  }
 },
 "nbformat": 4,
 "nbformat_minor": 2
}
