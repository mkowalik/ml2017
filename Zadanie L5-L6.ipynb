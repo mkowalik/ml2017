{
 "cells": [
  {
   "cell_type": "markdown",
   "metadata": {},
   "source": [
    "# L5, L6 - Michał Kowalik"
   ]
  },
  {
   "cell_type": "code",
   "execution_count": 6,
   "metadata": {
    "collapsed": true
   },
   "outputs": [],
   "source": [
    "# importy, przydatne funkcje\n",
    "\n",
    "import numpy as np\n",
    "from matplotlib import pyplot as plt\n",
    "from sklearn.linear_model import LinearRegression\n",
    "%matplotlib inline\n",
    "\n",
    "# np.vander(x, degree + 1)\n",
    "# przyjmuje listę liczb x\n",
    "# zwraca tabelę po zmianie zmiennych na wielomian stopnia x\n",
    "# można sobie przetestować dla lepszego zrozumienia\n",
    "\n",
    "def f(size):\n",
    "    '''\n",
    "    zwraca dwie listy przykładowych danych (x i y) o długości 'size'\n",
    "    w tym wypadku przykładowa prawdziwa funkcja to y(x) = 2 * sin(1.5 * x)\n",
    "    '''\n",
    "    x = np.linspace(0, 4.5, size)\n",
    "    y = 2 * np.sin(x * 1.5)\n",
    "    return (x,y)\n",
    "\n",
    "def sample(size):\n",
    "    '''\n",
    "    zwraca dwie listy przykładowych danych (x i y) o długości 'size'\n",
    "    podobnie jak f, ale z dodanym szumem\n",
    "    uwaga - współrzędna x jest \"losowana\" z rozkładu jednostajnego\n",
    "    (dla naszych zastosowań nie robi to większej różnicy, ale porządni informatycy\n",
    "    mogą chcieć zastąpić linspace przez prawdziwe losowanie)\n",
    "    '''\n",
    "    x = np.linspace(0, 4.5, size)\n",
    "    y = 2 * np.sin(x * 1.5) + np.random.randn(x.size)\n",
    "    return (x,y)\n",
    "\n",
    "def fit_polynomial(x, y, degree):\n",
    "    '''\n",
    "    zwraca nauczony model regresji z wielomianową zmianą zmiennych\n",
    "    (x,y): dane treningowe\n",
    "    degree: stopień wielomianu\n",
    "    '''\n",
    "    # To juz umiemy sami zaimplementować!\n",
    "    model = LinearRegression()\n",
    "    model.fit(np.vander(x, degree + 1), y)\n",
    "    return model\n",
    "\n",
    "def apply_polynomial(model, x):\n",
    "    '''\n",
    "    zwraca predykcję nauczonego modelu regresji z wielomianową zmianą zmiennych\n",
    "    x: dane do predykcji\n",
    "    '''\n",
    "    degree = model.coef_.size - 1 # wyciągamy stopień wielomianu z modelu\n",
    "    y = model.predict(np.vander(x, degree + 1))\n",
    "    return y\n",
    "\n",
    "f_x, f_y = f(50) # tym narysujemy sinusa"
   ]
  },
  {
   "cell_type": "markdown",
   "metadata": {},
   "source": [
    "## Cwiczenie 0 [0 pkt] \n",
    "\n",
    "(Do zrobienia przed przejściem dalej)\n",
    "\n",
    "Jaki ``Expected loss`` będzie miał model \"overfitted_model\"?\n",
    "\n",
    "Hint: mamy możliwość samplowania punktów z rozkładu $p(\\mathbf{x},  y)$"
   ]
  },
  {
   "cell_type": "code",
   "execution_count": 11,
   "metadata": {
    "collapsed": false
   },
   "outputs": [
    {
     "data": {
      "text/plain": [
       "[<matplotlib.lines.Line2D at 0xb186c18>]"
      ]
     },
     "execution_count": 11,
     "metadata": {},
     "output_type": "execute_result"
    },
    {
     "data": {
      "image/png": "[encoded data removed]",
      "text/plain": [
       "<matplotlib.figure.Figure at 0xa0695f8>"
      ]
     },
     "metadata": {},
     "output_type": "display_data"
    }
   ],
   "source": [
    "# Tu sie dopasowalismy\n",
    "X_train, y_train = sample(16)\n",
    "x, y = sample(16)\n",
    "overfitted_model = fit_polynomial(X_train, y_train, 15)\n",
    "p_y = apply_polynomial(overfitted_model, X_train)\n",
    "plt.plot(f_x, f_y)\n",
    "plt.plot(X_train, y, 'k.')\n",
    "plt.plot(X_train, p_y)"
   ]
  },
  {
   "cell_type": "code",
   "execution_count": 12,
   "metadata": {
    "collapsed": false
   },
   "outputs": [
    {
     "name": "stdout",
     "output_type": "stream",
     "text": [
      "268.917828356\n"
     ]
    }
   ],
   "source": [
    "x, y = sample(200)\n",
    "y_pred = apply_polynomial(overfitted_model, x)\n",
    "\n",
    "def MSE(y, y_hat):\n",
    "    return (y - y_hat)**2.0\n",
    "\n",
    "expected_loss_overfitted = (MSE(y, y_pred).sum())/len(x)\n",
    "print expected_loss_overfitted"
   ]
  },
  {
   "cell_type": "markdown",
   "metadata": {},
   "source": [
    "## Ćwiczenie 1 [2 pkt]\n",
    "\n",
    "W idealnym świecie mielibyśmy dostęp do procesu generowania danych i moglibyśmy znaleźć optymalny model (a przynajmniej wybrać stopień wielomianu w regresji liniowej) oraz oszacować jego bias i variance.\n",
    "\n",
    "1. Napisz kod, który dla ustalonego stopnia wielomianu ($K$) liczy bias, variance oraz MSE tego modelu (wielkości te estymujemy podobnie jak w ćwiczeniu 0.).\n",
    "\n",
    "2. Dla jakich wartości $K$ można powiedzieć że mamy model \"High variance/low bias\"?\n",
    "\n",
    "3. Jaka wartość $K$ daje minimum błędu MSE?\n",
    "\n",
    "Jeśli macie Państwo problem z wymyśleniem wzoru na powyższe wielkości, proszę jeszcze raz przeczytać ze zrozumieniem sekcję o rozkładzie błędu. Kluczowe jest to, że bias liczymy średnio po różnych zestawach danych $D$ - czym są w tym wypadku dane $D$? Jak zrobić kilkadziesiąt/set różnych takich zestawów? Czy rozmiar danych $D$ może ulegać zmianie? (jeśli nie, to proszę ustawić go np. na 43 lub inną liczbę tego rzędu).\n",
    "\n",
    "Oczekiwany wynik (z dokładnością do wartości) - poziomo $K$, pionowo bias/variance/MSE: \n",
    "\n",
    "<img src=\"figures/L5/L5_1_wynik.png\">\n",
    "\n",
    "Uwagi/wskazówki:\n",
    "\n",
    "* Proszę użyć zakresu K od 0 do 10 (nie od 0 do 15 jak na obrazku)\n",
    "* Proszę użyć zbioru testowego o rozmiarze 100. Zbiór testowy powinien być pobrany bez szumu (z użyciem funkcji \"f\")\n",
    "* Potrzebne wzory można znaleźć też w Bishop - Pattern recognition and Machine Learning, str. 151, 3.45, 3.46, 3.47. Tutaj dla wygody je kopiujemy:\n",
    "\n",
    "$L$ - liczba różnych zbiorów trenujących <br>\n",
    "$N$ - liczba przykładów w zbiorze testującym <br>\n",
    "$h(x_{n})$ - wartość prawdziwa <br>\n",
    "$$ \\overline{y}(x) = \\frac{1}{N} \\sum_{l=1}^{L} y^{(l)}(x) $$\n",
    "$$ bias^2 = \\frac{1}{N} \\sum_{n=1}^{N} \\{ \\overline{y}(x_{n}) - h(x_{n})   \\}^{2}  $$\n",
    "$$ variance = \\frac{1}{N} \\sum_{n=1}^{N} \\frac{1}{L} \\sum_{l=1}^{L} \\{ y^{(l)}(x_n) - \\overline{y}(x_{n}) \\}^{2} $$\n",
    "\n",
    "* Proszę użyc zbiorów trenujących (do uczenia $y^{(l)}$) o rozmiarze 20. Proszę wytrenować $N=200$ takich funkcji.\n",
    "* MSE proszę policzyć \"empirycznie\", czyli dla każdego K wykonując:\n",
    "\n",
    "```\n",
    "model = fit_polynomial(X_train, y_train, k)\n",
    "y_pred = apply_polynomial(model, X_test)\n",
    "mse = ...\n",
    "```"
   ]
  },
  {
   "cell_type": "code",
   "execution_count": 13,
   "metadata": {
    "collapsed": false
   },
   "outputs": [
    {
     "data": {
      "image/png": "[encoded data removed]",
      "text/plain": [
       "<matplotlib.figure.Figure at 0xb455ac8>"
      ]
     },
     "metadata": {},
     "output_type": "display_data"
    }
   ],
   "source": [
    "L = 200\n",
    "N = 100\n",
    "N_train = 20\n",
    "\n",
    "degrees=range(1, 10)\n",
    "biases = []\n",
    "variances = []\n",
    "errors = []\n",
    "\n",
    "for k in degrees:\n",
    "    \n",
    "    models = []\n",
    "    \n",
    "    for _ in range(L):\n",
    "        \n",
    "        X_train, y_train = sample(N_train)\n",
    "        models.append(fit_polynomial(X_train, y_train, k))\n",
    "        \n",
    "    X_test, y_test = f(N)\n",
    "    y_pred_tab = []\n",
    "    mses = []\n",
    "    \n",
    "    for model in models:\n",
    "        \n",
    "        y_pred_tab.append(apply_polynomial(model, X_test))\n",
    "        mses.append(MSE(y_pred_tab[-1], y_test))\n",
    "    \n",
    "        \n",
    "    y_pred_tab = np.array(y_pred_tab)\n",
    "    mses = np.array(mses)\n",
    "    \n",
    "    y_pred_means = y_pred_tab.mean(axis=0)\n",
    "    biases.append((MSE(y_pred_means, y_test)).mean())\n",
    "    variances_inner = []\n",
    "    \n",
    "    i=0\n",
    "    \n",
    "    for column in y_pred_tab.transpose():\n",
    "        variances_inner.append(MSE(column, column.mean()).mean())\n",
    "        \n",
    "    variances.append(np.mean(variances_inner))\n",
    "        \n",
    "    \n",
    "    y_pred = apply_polynomial(model, X_train)\n",
    "    \n",
    "    \n",
    "_ = plt.plot(degrees, biases, label=\"bias\")\n",
    "_ = plt.plot(degrees, variances, label='variance')\n",
    "_ = plt.plot(degrees, np.add(biases, variances), label='error')\n",
    "_ = plt.legend(bbox_to_anchor=(1.05, 1), loc=2, borderaxespad=0.)\n",
    "\n",
    "_ = plt.show()"
   ]
  },
  {
   "cell_type": "markdown",
   "metadata": {},
   "source": [
    "## Cwiczenie 2 [1 pkt]\n",
    "\n",
    "Im więcej podziałów w Cross Validation tym mniejczy czy większy variance **estymatora**? A jak zmienia się jego bias? Odpowiedź uzasadnij."
   ]
  },
  {
   "cell_type": "markdown",
   "metadata": {},
   "source": [
    "Im więcej podziałów, tym mniej elementów w zbiorze testującym, a więcej w zbiorze treniującym. Więcej elementów jest wspólnych pomiędzy kolejnymi zbiorami trenującymi. Zatem wariancja jest bardziej czuła na elementy, które bardziej odbiegają od modelu nauczonego na danych trenujących. Bias natomiast jest mniejszy, bo modele wytrenowane są bardzo podobne do siebie, bo dostają bardzo podobne zbiory trenującr. To powoduje, że wariancja estymatora się zwiększa, a bias się zmniesza.\n",
    "\n"
   ]
  },
  {
   "cell_type": "markdown",
   "metadata": {},
   "source": [
    "## Cwiczenie 3 [1 pkt]\n",
    "\n",
    "Pokaż, że logposterior ($log p(\\theta | X, y)$) dla regresji liniowej ma taką postać jak $C(M)$."
   ]
  },
  {
   "cell_type": "markdown",
   "metadata": {},
   "source": [
    "brak :-("
   ]
  },
  {
   "cell_type": "markdown",
   "metadata": {},
   "source": [
    "# L6"
   ]
  },
  {
   "cell_type": "markdown",
   "metadata": {},
   "source": [
    "## Ćwiczenie 1 [2 pkt]\n",
    "\n",
    "Napisać trzy generatory zestawów hiperparametrów:\n",
    "* generator grid search [robimy wspólnie za 0 pkt],\n",
    "* generator k elementów random grid search,\n",
    "* generator k elementów random search.\n",
    "\n",
    "Hiperparametry podajemy jako słownik {nazwa_hiperparametru: lista_wartości/rozkład}.\n",
    "\n",
    "Generator ma yieldować słowniki {nazwa_hiperparametru: wartość_hiperparametru}\n",
    "\n",
    "Rozkłady prawdopodobieństwa możecie Państwo podawać w dowolny sposób - np. jako pythonową funkcję, jako string z nazwą (a możliwe rozkłady zakodować na sztywno w funkcji zwracającej generatory) itp. Proponuję zastosować konwencję opisaną w następnej komórce [czy ktoś z Państwa ma inny pomysł, jak podawać rozkłady?].\n",
    "\n",
    "Losowe generatory mają przyjmować random_state i działać deterministycznie przy ustalonym random_state (należy ustawić w środku seed generatora liczb losowych na random_state).\n"
   ]
  },
  {
   "cell_type": "code",
   "execution_count": 18,
   "metadata": {
    "collapsed": true
   },
   "outputs": [],
   "source": [
    "import matplotlib.pylab as plt\n",
    "%matplotlib inline\n",
    "import numpy as np\n",
    "from numpy.random import RandomState\n",
    "from itertools import product"
   ]
  },
  {
   "cell_type": "code",
   "execution_count": 19,
   "metadata": {
    "collapsed": true
   },
   "outputs": [],
   "source": [
    "# Tworzymy fabryki samplerów, każda fabryka parametryzuje pewną rodzinę rozkładów prawdopodobieństwa\n",
    "# sampler pamięta jeden konkretny rozkład prawdopodobieństwa\n",
    "# jedynym argumentem samplera jest obiekt numpy.random.RandomState, który oznaczamy rng\n",
    "# sampler zwraca jedną wartość ze swojego rozkładu\n",
    "# ponieważ rng pamięta swój stan, to możemy np. raz stworzyć go na początku i podawać w pętli\n",
    "\n",
    "# rodzina rozkładów jednostajnych na podanych listach elementów\n",
    "# sampler losuje z rozkładu jednostajnego na liście l\n",
    "def uniform_from_list(l):\n",
    "    def sampler(rng):\n",
    "        return l[rng.randint(0,len(l))]\n",
    "    return sampler\n",
    "\n",
    "# rodzina rozkładów jednostajnych na przedziałach liczb całkowitych\n",
    "# sampler losuje z rozkładu jednostajnego na podzbiorze liczb całkowitych od low (włącznie) do high (wyłącznie)\n",
    "def uniform_int_on_interval(low, high):\n",
    "    def sampler(rng):\n",
    "        return rng.randint(low,high)\n",
    "    return sampler\n",
    "\n",
    "# rodzina rozkładów jednostajnych na przedziałach\n",
    "# sampler losuje z rozkładu jednostajnego na przedziale [low, high]\n",
    "def uniform_on_interval(low, high):\n",
    "    def sampler(rng):\n",
    "        return rng.uniform(low, high)\n",
    "    return sampler\n",
    "\n",
    "# rodzina rozkładów jednostajnych na przedziałach w wykładniku potęgi liczby 10\n",
    "# sampler losuje liczbę alpha z rozkładu jednostajnego na przedziale [low, high], a następnie zwraca 10^alpha\n",
    "def log_uniform_on_interval(low, high):\n",
    "    def sampler(rng):\n",
    "        return 10.**rng.uniform(low, high)\n",
    "    return sampler\n",
    "\n",
    "# rodzina rozkładów gaussa\n",
    "# sampler losuje liczbę z rozkładu N(mean, std^2)\n",
    "def normal(mean, std):\n",
    "    def sampler(rng):\n",
    "        return rng.normal(loc=mean, scale=std)\n",
    "    return sampler\n",
    "\n",
    "# rodzina rozkładów gaussa w wykładniku potęgi liczby 10\n",
    "# sampler losuje liczbę alpha z rozkładu N(mean, std^2), a następnie zwraca 10^alpha\n",
    "def log_normal(mean, std):\n",
    "    def sampler(rng):\n",
    "        return 10**rng.normal(loc=mean, scale=std)\n",
    "    return sampler"
   ]
  },
  {
   "cell_type": "code",
   "execution_count": 20,
   "metadata": {
    "collapsed": false
   },
   "outputs": [
    {
     "name": "stdout",
     "output_type": "stream",
     "text": [
      "Tworzymy obiekt klasy RandomState\n",
      "Losujemy...\n",
      "-0.842587612353 0.000472401243122 0\n",
      "0.153322909413 543.807159801 -2\n",
      "-0.341758747593 1765.13251908 3\n",
      "-0.593715774857 8.32922889041 -1\n",
      "\n",
      "Resetujemy RandomState\n",
      "Losujemy...\n",
      "-0.842587612353 0.000472401243122 0\n",
      "0.153322909413 543.807159801 -2\n",
      "-0.341758747593 1765.13251908 3\n",
      "-0.593715774857 8.32922889041 -1\n",
      "\n",
      "Resetujemy RandomState\n",
      "Losujemy w innej kolejności, wypisujemy w starej...\n",
      "-1.50310753692 5.57429041087 4\n",
      "0.394467225601 0.000472401243122 0\n",
      "0.343807964283 543.807159801 0\n",
      "-0.775106170237 1765.13251908 4\n",
      "\n",
      "samplery współdzielą rng, kolejność losowania ma znaczenie!\n"
     ]
    }
   ],
   "source": [
    "print \"Tworzymy obiekt klasy RandomState\"\n",
    "rng = RandomState(743)\n",
    "s1 = normal(0.,1.)\n",
    "s2 = log_uniform_on_interval(-4.,4.)\n",
    "s3 = uniform_int_on_interval(-2,5)\n",
    "print \"Losujemy...\"\n",
    "for _ in xrange(4):\n",
    "    print s1(rng), s2(rng), s3(rng)\n",
    "\n",
    "print \"\"\n",
    "print \"Resetujemy RandomState\"\n",
    "rng = RandomState(743)\n",
    "s1 = normal(0.,1.)\n",
    "s2 = log_uniform_on_interval(-4.,4.)\n",
    "s3 = uniform_int_on_interval(-2,5)\n",
    "print \"Losujemy...\"\n",
    "for _ in xrange(4):\n",
    "    print s1(rng), s2(rng), s3(rng)\n",
    "\n",
    "print \"\"\n",
    "print \"Resetujemy RandomState\"\n",
    "rng = RandomState(743)\n",
    "s1 = normal(0.,1.)\n",
    "s2 = log_uniform_on_interval(-4.,4.)\n",
    "s3 = uniform_int_on_interval(-2,5)\n",
    "print \"Losujemy w innej kolejności, wypisujemy w starej...\"\n",
    "for _ in xrange(4):\n",
    "    _s3 = s3(rng)\n",
    "    _s2 = s2(rng)\n",
    "    _s1 = s1(rng)\n",
    "    print _s1, _s2, _s3\n",
    "\n",
    "print \"\"\n",
    "print \"samplery współdzielą rng, kolejność losowania ma znaczenie!\""
   ]
  },
  {
   "cell_type": "code",
   "execution_count": 22,
   "metadata": {
    "collapsed": true
   },
   "outputs": [],
   "source": [
    "def grid_search(grid):\n",
    "    (keys, values_grid) = zip(*grid.iteritems())\n",
    "    for values in product(*values_grid):\n",
    "        yield dict(zip(keys, values))\n",
    "\n",
    "def random_grid_search(grid, k=20, random_state=43):\n",
    "    rng = RandomState(random_state) # ustalamy jeden wspólny rng\n",
    "    (keys, values_grid) = zip(*grid.iteritems())\n",
    "    parameters_product = np.array(list(product(*values_grid)))\n",
    "    chosen = set()\n",
    "    while len(chosen)<k:\n",
    "        chosen.add(rng.randint(0, parameters_product.shape[0]))\n",
    "                   \n",
    "    for p in parameters_product[np.sort(np.array(list(chosen)))]:\n",
    "        yield dict(zip(keys, p))\n",
    "\n",
    "def random_search(grid, k=20, random_state=43):\n",
    "    rng = RandomState(random_state) # ustalamy jeden wspólny rng\n",
    "    (keys, samplers) = zip(*sorted(grid.iteritems())) # sortujemy klucze, kolejność samplowania jest ważna!\n",
    "    # wysamplować k zestawów hiperparametrów\n",
    "    # ...\n",
    "    for _ in xrange(k):\n",
    "        values = []\n",
    "        for s in samplers:\n",
    "            values.append(s(rng))\n",
    "        yield dict(zip(keys, values))\n"
   ]
  },
  {
   "cell_type": "code",
   "execution_count": 23,
   "metadata": {
    "collapsed": false
   },
   "outputs": [
    {
     "name": "stdout",
     "output_type": "stream",
     "text": [
      "{'C': 0.1, 'gamma': 0.0001}\n",
      "{'C': 0.1, 'gamma': 0.0003}\n",
      "{'C': 0.1, 'gamma': 0.001}\n",
      "{'C': 1.0, 'gamma': 0.0001}\n",
      "{'C': 1.0, 'gamma': 0.0003}\n",
      "{'C': 1.0, 'gamma': 0.001}\n",
      "{'C': 10.0, 'gamma': 0.0001}\n",
      "{'C': 10.0, 'gamma': 0.0003}\n",
      "{'C': 10.0, 'gamma': 0.001}\n",
      "{'C': 100.0, 'gamma': 0.0001}\n",
      "{'C': 100.0, 'gamma': 0.0003}\n",
      "{'C': 100.0, 'gamma': 0.001}\n",
      "\n",
      "{'C': 0.10000000000000001, 'gamma': 0.0001}\n",
      "{'C': 0.10000000000000001, 'gamma': 0.00029999999999999997}\n",
      "{'C': 0.10000000000000001, 'gamma': 0.001}\n",
      "{'C': 1.0, 'gamma': 0.0001}\n",
      "{'C': 1.0, 'gamma': 0.00029999999999999997}\n",
      "{'C': 1.0, 'gamma': 0.001}\n",
      "{'C': 100.0, 'gamma': 0.00029999999999999997}\n",
      "{'C': 100.0, 'gamma': 0.001}\n"
     ]
    }
   ],
   "source": [
    "# assert dla grid_search\n",
    "for d in grid_search({'C': [0.1, 1., 10., 100.], 'gamma': [0.0001, 0.0003, 0.001]}):\n",
    "    print d\n",
    "    \n",
    "print \"\"\n",
    "\n",
    "for d in random_grid_search({'C': [0.1, 1., 10., 100.], 'gamma': [0.0001, 0.0003, 0.001]}, k=8):\n",
    "    print d"
   ]
  },
  {
   "cell_type": "code",
   "execution_count": 24,
   "metadata": {
    "collapsed": false
   },
   "outputs": [
    {
     "name": "stdout",
     "output_type": "stream",
     "text": [
      "{'C': 0.00014143134252521947, 'nb_sth': 9, 'gamma': 0.06090665392794814}\n",
      "{'C': 0.0025462216096392796, 'nb_sth': 13, 'gamma': 0.03271390558111398}\n",
      "{'C': 5.590022241698091e-05, 'nb_sth': 1, 'gamma': 0.004505286023886656}\n",
      "{'C': 1.950465371399982e-05, 'nb_sth': 13, 'gamma': 0.0733748296280283}\n",
      "{'C': 0.0002976304542098269, 'nb_sth': 13, 'gamma': 0.0011286104130902254}\n",
      "{'C': 3.705521747936987e-05, 'nb_sth': 22, 'gamma': 0.08666486408992002}\n",
      "{'C': 31.420766577465653, 'nb_sth': 22, 'gamma': 0.05808772319264447}\n",
      "{'C': 5.842880444285076e-05, 'nb_sth': 1, 'gamma': 0.08432246942297046}\n",
      "{'C': 16.058920736060898, 'nb_sth': 22, 'gamma': 0.04037700398666926}\n",
      "{'C': 35065.59811614318, 'nb_sth': 22, 'gamma': 0.04457583608397189}\n",
      "{'C': 6.683446823678905e-05, 'nb_sth': 13, 'gamma': 0.08970985799815344}\n",
      "{'C': 965.8767858660282, 'nb_sth': 1, 'gamma': 0.0332329385020804}\n",
      "{'C': 0.28068153065434537, 'nb_sth': 1, 'gamma': 0.08247676837174123}\n",
      "{'C': 12207.52376193616, 'nb_sth': 13, 'gamma': 0.09101530757801567}\n",
      "{'C': 0.00015294037493259258, 'nb_sth': 9, 'gamma': 0.09375550594407336}\n"
     ]
    }
   ],
   "source": [
    "for d in random_search(\n",
    "        {'C': log_uniform_on_interval(-5., 5.),\n",
    "         'gamma': uniform_on_interval(0.,0.1),\n",
    "         'nb_sth': uniform_from_list([1,4,9,13,22])},\n",
    "        k=15,\n",
    "        random_state=43):\n",
    "    print d"
   ]
  }
 ],
 "metadata": {
  "kernelspec": {
   "display_name": "Python 2",
   "language": "python",
   "name": "python2"
  },
  "language_info": {
   "codemirror_mode": {
    "name": "ipython",
    "version": 2
   },
   "file_extension": ".py",
   "mimetype": "text/x-python",
   "name": "python",
   "nbconvert_exporter": "python",
   "pygments_lexer": "ipython2",
   "version": "2.7.13"
  }
 },
 "nbformat": 4,
 "nbformat_minor": 2
}
