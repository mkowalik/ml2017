{
 "cells": [
  {
   "cell_type": "markdown",
   "metadata": {},
   "source": [
    "# Seminaria\n",
    "\n",
    "1. Seminarium Zakładu Uczenia Maszynowego - czw. 14-16, sala 1146; seminarium katedralne, wstęp wyłącznie dla studentów, którzy piszą pracę licencjacką/magisterską pod kierunkiem pracownika Katedry Uczenia Maszynowego.\n",
    "2. Seminarium Zakładu Uczenia Maszynowego nr 2 - TBA; seminarium katedralne, wstęp wyłącznie dla studentów, którzy piszą pracę licencjacką/magisterską pod kierunkiem pracownika Katedry Uczenia Maszynowego.\n",
    "3. Seminarium Metody AI - śr. 10-12, sala 1146; dla wszystkich studentów.\n",
    "4. Seminarium \"Reinforcement Learning\" - pt. 10-12, sala 1146; seminarium głównie dla doktorantów, wstęp wolny dla zainteresowanych studentów.\n",
    "5. Machine Learning Study Group - śr. 18-20, sala 1162 (siedziba Naukowego Koła Robotyki); wspólne czytanie najnowszych paperów, wstęp wolny dla wszystkich (w tym sporo osób spoza UJ), bardzo polecam.\n",
    "6. [Seminarium z AI safety](http://www.aisafety.pl) - pn. 14:15-15:45, sala 0006; wspólne czytanie paperów (zaczynając od MIRI), wstęp wolny dla wszystkich. \n"
   ]
  },
  {
   "cell_type": "markdown",
   "metadata": {},
   "source": [
    "# Tutoriale\n",
    "1. Ćwiczenia z numpy: https://github.com/Kyubyong/numpy_exercises (poleca Michał Soboszek).\n",
    "2. Bayes dla informatyków: http://camdavidsonpilon.github.io/Probabilistic-Programming-and-Bayesian-Methods-for-Hackers/ (szczególnie chapter 1 jako uzupełnienie drugich ćwiczeń).\n",
    "3. Kurs Deep Learningu z Oxfordu https://www.cs.ox.ac.uk/people/nando.defreitas/machinelearning/\n",
    "4. Ćwiczenia z Kalmana / wyjaśnienie gaussa: https://github.com/rlabbe/Kalman-and-Bayesian-Filters-in-Python (poleca Michał Soboszek)."
   ]
  },
  {
   "cell_type": "markdown",
   "metadata": {},
   "source": [
    "# Linki do dokumentacji\n",
    "1. scikit-learn: http://scikit-learn.org/stable/modules/classes.html"
   ]
  },
  {
   "cell_type": "markdown",
   "metadata": {},
   "source": [
    "# Egzamin\n",
    "\n",
    "Egzamin odbędzie się 21.06, 12:00 w 1177."
   ]
  },
  {
   "cell_type": "markdown",
   "metadata": {},
   "source": [
    "# Zasady zaliczenia"
   ]
  },
  {
   "cell_type": "markdown",
   "metadata": {},
   "source": [
    "Niech C - suma możliwych punktów do uzyskania z zadań na ćwiczeniach (L1 do L11), E - suma możliwych punktów do uzyskania z egzaminu, c - uzyskane punkty z ćwiczeń, e - uzyskane punkty z egzaminu.\n",
    "\n",
    "* Ostateczna ocena jest wyliczana tradycyjnymi progami z 0.5 * c/C + 0.5 * e/E\n",
    "* Zwolnienie z egzaminu od 0.92 * C (zwolnienie jest równoznaczne ze zdaniem egzaminu i całego przedmiotu na bdb)\n",
    "\n",
    "Aby uzyskać zaliczenie należy zdać egzamin i ćwiczenia (tj. uzyskać min. 0.5*C oraz 0.5*E).\n",
    "\n",
    "## Grupa Damiana\n",
    "\n",
    "* Projekt na *dodatkowe* 0.2 * C. Maksymalnie z ćwiczeń można uzyskać 1.2 * C (dodatkowe punkty doliczają się do punktów z egzaminu).\n",
    "* Można oddawać zadania bez straty punktów do godz. 24:00 dnia 25.06. Dla osób chcących uzyskać zwolnienie z egzaminu zadania należy wysłać do 24:00 dnia 18.06 (oraz przesłać maila z informacją, że powinienem sprawdzić zadania i przeliczyć punkty).\n",
    "* Oczywiście przesłanie rozwiązań **nie** gwarantuje zwolnienia z egzaminu, jeśli zadania są rozwiązane niepoprawnie. Jeśli student chce uniknąć sytuacji, w której na dzień przed egzaminem dowiaduje się, że jednak musi do niego przystąpić, zalecam przesłanie rozwiązań najpóźniej dnia 11.06.\n",
    "\n",
    "## Grupy Staszka\n",
    "\n",
    "* Projekt za 0.35 * C\n",
    "* Punkty z ćwiczeń mnożone przez 0.85 (aby uzyskać 100% z ćwiczeń należy zrobić projekt na minimum 0.15*C)\n",
    "* Nie można oddawać zaległych zadań\n",
    "* Jeśli ktoś chce być zwolniony z egzaminu należy wysłać projekt do 24:00, 18.06"
   ]
  }
 ],
 "metadata": {
  "kernelspec": {
   "display_name": "Python 2",
   "language": "python",
   "name": "python2"
  },
  "language_info": {
   "codemirror_mode": {
    "name": "ipython",
    "version": 2
   },
   "file_extension": ".py",
   "mimetype": "text/x-python",
   "name": "python",
   "nbconvert_exporter": "python",
   "pygments_lexer": "ipython2",
   "version": "2.7.13"
  },
  "toc": {
   "toc_cell": false,
   "toc_number_sections": true,
   "toc_threshold": 6,
   "toc_window_display": false
  }
 },
 "nbformat": 4,
 "nbformat_minor": 2
}
